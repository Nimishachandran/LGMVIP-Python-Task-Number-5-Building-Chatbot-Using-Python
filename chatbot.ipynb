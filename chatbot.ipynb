{
  "cells": [
    {
      "cell_type": "markdown",
      "metadata": {
        "id": "view-in-github",
        "colab_type": "text"
      },
      "source": [
        "<a href=\"https://colab.research.google.com/github/Nimishachandran/LGMVIP-Python-Task-Number-5-Building-Chatbot-Using-Python/blob/main/chatbot.ipynb\" target=\"_parent\"><img src=\"https://colab.research.google.com/assets/colab-badge.svg\" alt=\"Open In Colab\"/></a>"
      ]
    },
    {
      "cell_type": "code",
      "execution_count": null,
      "metadata": {
        "colab": {
          "background_save": true,
          "base_uri": "https://localhost:8080/"
        },
        "id": "LmiYGuInRCgI",
        "outputId": "ec36b714-195a-44ba-f37d-b13f925ec876"
      },
      "outputs": [
        {
          "name": "stdout",
          "output_type": "stream",
          "text": [
            "Welcome to the Python Chatbot! Type 'bye' to exit.\n",
            "Chatbot: Hello! How can I help you today?\n",
            "Chatbot: I'm just a bot, but I'm here to help you!\n",
            "Chatbot: I'm sorry, I don't understand that. Can you please rephrase?\n"
          ]
        }
      ],
      "source": [
        "# Define responses\n",
        "responses = {\n",
        "    \"hi\": \"Hello! How can I help you today?\",\n",
        "    \"hello\": \"Hi there! How can I assist you?\",\n",
        "    \"how are you\": \"I'm just a bot, but I'm here to help you!\",\n",
        "    \"what is your name\": \"I'm a simple chatbot created by a Python enthusiast.\",\n",
        "    \"bye\": \"Goodbye! Have a great day!\",\n",
        "    \"default\": \"I'm sorry, I don't understand that. Can you please rephrase?\"\n",
        "}\n",
        "\n",
        "# Function to get response from the chatbot\n",
        "def get_response(user_input):\n",
        "    # Convert input to lowercase to make the bot case-insensitive\n",
        "    user_input = user_input.lower()\n",
        "    return responses.get(user_input, responses[\"default\"])\n",
        "\n",
        "# Main function to run the chatbot\n",
        "def chat():\n",
        "    print(\"Welcome to the Python Chatbot! Type 'bye' to exit.\")\n",
        "    while True:\n",
        "        user_input = input(\"You: \")\n",
        "        if user_input.lower() == \"bye\":\n",
        "            print(\"Chatbot: \" + get_response(user_input))\n",
        "            break\n",
        "        else:\n",
        "            print(\"Chatbot: \" + get_response(user_input))\n",
        "\n",
        "# Run the chatbot\n",
        "chat()\n"
      ]
    }
  ],
  "metadata": {
    "colab": {
      "provenance": [],
      "authorship_tag": "ABX9TyNNwWCKb1S9m31z4skW+dWl",
      "include_colab_link": true
    },
    "kernelspec": {
      "display_name": "Python 3",
      "name": "python3"
    },
    "language_info": {
      "name": "python"
    }
  },
  "nbformat": 4,
  "nbformat_minor": 0
}